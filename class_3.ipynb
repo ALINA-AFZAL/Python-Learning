{
  "nbformat": 4,
  "nbformat_minor": 0,
  "metadata": {
    "colab": {
      "provenance": [],
      "authorship_tag": "ABX9TyMY8yNiFG0xCsFKkNqy8o3E",
      "include_colab_link": true
    },
    "kernelspec": {
      "name": "python3",
      "display_name": "Python 3"
    },
    "language_info": {
      "name": "python"
    }
  },
  "cells": [
    {
      "cell_type": "markdown",
      "metadata": {
        "id": "view-in-github",
        "colab_type": "text"
      },
      "source": [
        "<a href=\"https://colab.research.google.com/github/ALINA-AFZAL/Python-Learning/blob/main/class_3.ipynb\" target=\"_parent\"><img src=\"https://colab.research.google.com/assets/colab-badge.svg\" alt=\"Open In Colab\"/></a>"
      ]
    },
    {
      "cell_type": "code",
      "execution_count": null,
      "metadata": {
        "colab": {
          "base_uri": "https://localhost:8080/"
        },
        "id": "b10UBFmQuyUr",
        "outputId": "a2c87663-158c-4db2-ea8f-99c21d28fa7c"
      },
      "outputs": [
        {
          "output_type": "stream",
          "name": "stdout",
          "text": [
            "Enter your age: 12\n",
            "12\n",
            "Allowed\n"
          ]
        }
      ],
      "source": [
        "#conditions:\n",
        "\n",
        "age = int(input(\"Enter your age: \"))\n",
        "print(age)\n",
        "\n",
        "if age>10:\n",
        "  print(\"Allowed\")"
      ]
    },
    {
      "cell_type": "code",
      "source": [
        "#conditions\n",
        "marks = int(input(\"Enter your marks: \"))\n",
        "\n",
        "if marks>90:\n",
        "  print(\"A\")\n",
        "elif marks>80:\n",
        "  print(\"B\")\n",
        "elif marks>70:\n",
        "  print(\"C\")\n",
        "elif marks>60:\n",
        "  print(\"D\")\n",
        "else:\n",
        "  print(\"fail\")"
      ],
      "metadata": {
        "colab": {
          "base_uri": "https://localhost:8080/"
        },
        "id": "cIcFp4pCwYex",
        "outputId": "c2f2c923-8e5e-4274-8742-1c8ae7549fb4"
      },
      "execution_count": null,
      "outputs": [
        {
          "output_type": "stream",
          "name": "stdout",
          "text": [
            "Enter your marks: 30\n",
            "fail\n"
          ]
        }
      ]
    },
    {
      "cell_type": "code",
      "source": [
        "#Tast 1: Report card\n",
        "#SUBJECTS:\n",
        "\n",
        "print(\"********************************REPORT CARD*********************************\")\n",
        "english = int(input(\"Marks of English:\"))\n",
        "science = int(input(\"Marks of Science:\"))\n",
        "maths = int(input(\"Marks of Maths:\"))\n",
        "islamiat = int(input(\"Marks of Islamiat:\"))\n",
        "computer = int(input(\"Marks of Computer:\"))\n",
        "\n",
        "obtainedmarks = english + science + maths + islamiat + computer\n",
        "print(\"Obtained Marks: \", obtainedmarks)\n",
        "\n",
        "totalmarks = 500\n",
        "print(\"totalmarks:\", totalmarks)\n",
        "\n",
        "percentage = obtainedmarks/totalmarks * 100\n",
        "print(\"percentage: \", percentage)\n",
        "\n",
        "if (percentage > 80 ):\n",
        "  print(\"A+ Grade\", \"Outstanding Performance!\")\n",
        "elif (percentage > 70):\n",
        "  print(\"A Grade\", \"Excellent Result!\")\n",
        "elif (percentage > 60):\n",
        "  print (\"B Grade\", \"Good Result! Keep it up!\")\n",
        "else:\n",
        "  print (\"Fail, Keep up the hard work!\")\n",
        "\n",
        "print(\"********************************************************************\")"
      ],
      "metadata": {
        "colab": {
          "base_uri": "https://localhost:8080/"
        },
        "id": "CuBhxItQ0-mJ",
        "outputId": "01d439fe-145c-4538-e939-12278f8914a5"
      },
      "execution_count": null,
      "outputs": [
        {
          "output_type": "stream",
          "name": "stdout",
          "text": [
            "********************************REPORT CARD*********************************\n",
            "Marks of English:70\n",
            "Marks of Science:50\n",
            "Marks of Maths:40\n",
            "Marks of Islamiat:39\n",
            "Marks of Computer:20\n",
            "Obtained Marks:  219\n",
            "totalmarks: 500\n",
            "percentage:  43.8\n",
            "Fail, Keep up the hard work!\n",
            "********************************************************************\n"
          ]
        }
      ]
    },
    {
      "cell_type": "code",
      "source": [],
      "metadata": {
        "id": "ro6hZ4mo8Fnu"
      },
      "execution_count": null,
      "outputs": []
    }
  ]
}