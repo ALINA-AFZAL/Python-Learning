{
  "nbformat": 4,
  "nbformat_minor": 0,
  "metadata": {
    "colab": {
      "provenance": [],
      "authorship_tag": "ABX9TyNqB0ZGfr2FB+A9z1L7U4u/",
      "include_colab_link": true
    },
    "kernelspec": {
      "name": "python3",
      "display_name": "Python 3"
    },
    "language_info": {
      "name": "python"
    }
  },
  "cells": [
    {
      "cell_type": "markdown",
      "metadata": {
        "id": "view-in-github",
        "colab_type": "text"
      },
      "source": [
        "<a href=\"https://colab.research.google.com/github/ALINA-AFZAL/ALINA-AFZAL/blob/main/class_2.ipynb\" target=\"_parent\"><img src=\"https://colab.research.google.com/assets/colab-badge.svg\" alt=\"Open In Colab\"/></a>"
      ]
    },
    {
      "cell_type": "code",
      "source": [
        "print (type(name))\n",
        "print (type(age))\n",
        "print (type(height))"
      ],
      "metadata": {
        "id": "V4U1l51ddQmc",
        "colab": {
          "base_uri": "https://localhost:8080/"
        },
        "outputId": "d7ee9b4c-0436-40e0-9cf8-3b5f14cf563d"
      },
      "execution_count": null,
      "outputs": [
        {
          "output_type": "stream",
          "name": "stdout",
          "text": [
            "<class 'str'>\n",
            "<class 'str'>\n",
            "<class 'str'>\n"
          ]
        }
      ]
    },
    {
      "cell_type": "code",
      "execution_count": null,
      "metadata": {
        "colab": {
          "base_uri": "https://localhost:8080/"
        },
        "id": "UZvEA6hDbzJA",
        "outputId": "456a3112-85a3-47c4-ae21-34e53ce7e650"
      },
      "outputs": [
        {
          "output_type": "stream",
          "name": "stdout",
          "text": [
            "enter your name :alina\n",
            "enter your age :19\n",
            "enter your height :5\n",
            "The user name is alina and her age is 19 and height is 5\n"
          ]
        }
      ],
      "source": [
        "name = input (\"enter your name :\")\n",
        "age = input (\"enter your age :\")\n",
        "height = input (\"enter your height :\")\n",
        "\n",
        "print (\"The user name is\", name, \"and her age is\", age, \"and height is\", height)"
      ]
    },
    {
      "cell_type": "code",
      "source": [
        "#string\n",
        "name = input (\"enter your name :\")\n",
        "#int\n",
        "age = int(input (\"enter your age :\"))\n",
        "#float\n",
        "height = float(input (\"enter your height :\"))\n",
        "\n",
        "print (\"The user name is\", name, \"and her age is\", age, \"and height is\", height)"
      ],
      "metadata": {
        "id": "3ZWBUGgrgjcE",
        "colab": {
          "base_uri": "https://localhost:8080/"
        },
        "outputId": "6e17f77a-f279-4dd2-a6f5-d64c4193db4e"
      },
      "execution_count": null,
      "outputs": [
        {
          "output_type": "stream",
          "name": "stdout",
          "text": [
            "enter your name :Alina\n",
            "enter your age :19\n",
            "enter your height :5\n",
            "The user name is Alina and her age is 19 and height is 5.0\n"
          ]
        }
      ]
    },
    {
      "cell_type": "code",
      "source": [
        "print (type(name))\n",
        "print (type(age))\n",
        "print (type(height))\n"
      ],
      "metadata": {
        "colab": {
          "base_uri": "https://localhost:8080/"
        },
        "id": "PEU8nfkzkjUF",
        "outputId": "e21f5784-bb88-49a5-98d4-a7571f4bdeda"
      },
      "execution_count": null,
      "outputs": [
        {
          "output_type": "stream",
          "name": "stdout",
          "text": [
            "<class 'str'>\n",
            "<class 'int'>\n",
            "<class 'float'>\n"
          ]
        }
      ]
    },
    {
      "cell_type": "code",
      "source": [
        "num1 = int(input(\"Enter first number :\"))\n",
        "num2 =int(input(\"Enter second number :\"))\n",
        "\n",
        "print(\"The numbers are \", num1,\",\",num2)\n",
        "#addition\n",
        "add = num1 + num2\n",
        "print(add)\n",
        "\n",
        "#subtraction\n",
        "sub = num1 - num2\n",
        "print(sub)\n",
        "\n",
        "#multiplication\n",
        "mul = num1 * num2\n",
        "print(mul)\n",
        "\n",
        "#division\n",
        "div = num1 / num2\n",
        "print(div)\n"
      ],
      "metadata": {
        "colab": {
          "base_uri": "https://localhost:8080/"
        },
        "id": "J_HC1T8lkrbq",
        "outputId": "2524cb53-5414-4bd4-c2e7-42dd90f86254"
      },
      "execution_count": null,
      "outputs": [
        {
          "output_type": "stream",
          "name": "stdout",
          "text": [
            "Enter first number :5\n",
            "Enter second number :4\n",
            "The numbers are  5 , 4\n",
            "9\n",
            "1\n",
            "20\n",
            "1.25\n"
          ]
        }
      ]
    },
    {
      "cell_type": "code",
      "source": [
        "print(\"**************************************** Report card of 1st Student ******************************************\")\n",
        "name1 = input(\"Enter name of a student :\")\n",
        "age1 = int(input(\"Enter an age of student :\"))\n",
        "subject = input(\"Write your subjects: \")\n",
        "grade = input(\"Student's grade: \")\n",
        "\n",
        "print(\"Name of student:\",name1,\",\",\n",
        "      \"Age of student:\",age1,\",\",\n",
        "      \"Subject:\",subject,\",\",\n",
        "      \"Student's grade:\",grade,)\n",
        "print(\"=============================================================================================================\")\n",
        "\n",
        "print(\"**************************************** Report card of 2nd Student ******************************************\")\n",
        "name2 = input(\"Enter name of second student :\")\n",
        "age1 = int(input(\"Enter an age of second student :\"))\n",
        "subject = input(\"Write your subjects: \")\n",
        "grade = input(\"Student's grade: \")\n",
        "\n",
        "print(\"Name of student:\",name1,\",\",\n",
        "      \"Age of student:\",age1,\",\",\n",
        "      \"Subject:\",subject,\",\",\n",
        "      \"Student's grade:\",grade,)\n",
        "print(\"==============================================================================================================\")\n"
      ],
      "metadata": {
        "colab": {
          "base_uri": "https://localhost:8080/"
        },
        "id": "0GuKgfXSqIB-",
        "outputId": "7c49dd54-2d26-41a8-94bc-a7a1730bab39"
      },
      "execution_count": null,
      "outputs": [
        {
          "output_type": "stream",
          "name": "stdout",
          "text": [
            "**************************************** Report card of 1st Student ******************************************\n",
            "Enter name of a student :Aishba\n",
            "Enter an age of student :20\n",
            "Write your subjects: Accounting\n",
            "Student's grade: A+\n",
            "Name of student: Aishba , Age of student: 20 , Subject: Accounting , Student's grade: A+\n",
            "=============================================================================================================\n",
            "**************************************** Report card of 2nd Student ******************************************\n",
            "Enter name of second student :Fatima\n",
            "Enter an age of second student :19\n",
            "Write your subjects: Accounting\n",
            "Student's grade: A+\n",
            "Name of student: Aishba , Age of student: 19 , Subject: Accounting , Student's grade: A+\n",
            "==============================================================================================================\n"
          ]
        }
      ]
    },
    {
      "cell_type": "code",
      "source": [],
      "metadata": {
        "id": "DxMPg8k1wDvi"
      },
      "execution_count": null,
      "outputs": []
    }
  ]
}