{
  "nbformat": 4,
  "nbformat_minor": 0,
  "metadata": {
    "colab": {
      "provenance": [],
      "authorship_tag": "ABX9TyMPey9IP5m/tR3KAZeIYlRw",
      "include_colab_link": true
    },
    "kernelspec": {
      "name": "python3",
      "display_name": "Python 3"
    },
    "language_info": {
      "name": "python"
    }
  },
  "cells": [
    {
      "cell_type": "markdown",
      "metadata": {
        "id": "view-in-github",
        "colab_type": "text"
      },
      "source": [
        "<a href=\"https://colab.research.google.com/github/ALINA-AFZAL/Python-Learning/blob/main/class_4.ipynb\" target=\"_parent\"><img src=\"https://colab.research.google.com/assets/colab-badge.svg\" alt=\"Open In Colab\"/></a>"
      ]
    },
    {
      "cell_type": "code",
      "execution_count": null,
      "metadata": {
        "colab": {
          "base_uri": "https://localhost:8080/"
        },
        "id": "MfurhL41hGci",
        "outputId": "5de33501-e78b-48e5-cc06-04b66dfd9c0c"
      },
      "outputs": [
        {
          "output_type": "stream",
          "name": "stdout",
          "text": [
            "Enter any number for checking whether it is even or odd3\n",
            "3 is odd number.\n"
          ]
        }
      ],
      "source": [
        "# Task\n",
        "# Is it even or odd:\n",
        "\n",
        "num1 = int(input(\"Enter any number for checking whether it is even or odd\"))\n",
        "\n",
        "#conditions\n",
        "if num1%2==0:\n",
        " print(num1, \"is even number.\")\n",
        "else :\n",
        " print(num1, \"is odd number.\")"
      ]
    },
    {
      "cell_type": "code",
      "source": [
        "for i in range(1,20,3):\n",
        "  print(i)"
      ],
      "metadata": {
        "colab": {
          "base_uri": "https://localhost:8080/"
        },
        "id": "IjLm_MmYiuV2",
        "outputId": "49aa4022-84d0-49bc-fbec-5d62b3dacdfb"
      },
      "execution_count": null,
      "outputs": [
        {
          "output_type": "stream",
          "name": "stdout",
          "text": [
            "1\n",
            "4\n",
            "7\n",
            "10\n",
            "13\n",
            "16\n",
            "19\n"
          ]
        }
      ]
    },
    {
      "cell_type": "code",
      "source": [
        "#table of 2:\n",
        "for i in range(1,11,1):\n",
        "  print(\"2 *\", i , \"=\", i*2)"
      ],
      "metadata": {
        "colab": {
          "base_uri": "https://localhost:8080/"
        },
        "id": "jhxy7kVbmu-5",
        "outputId": "5064536c-4c82-43b9-ccc2-a08e71513a4c"
      },
      "execution_count": null,
      "outputs": [
        {
          "output_type": "stream",
          "name": "stdout",
          "text": [
            "2 * 1 = 2\n",
            "2 * 2 = 4\n",
            "2 * 3 = 6\n",
            "2 * 4 = 8\n",
            "2 * 5 = 10\n",
            "2 * 6 = 12\n",
            "2 * 7 = 14\n",
            "2 * 8 = 16\n",
            "2 * 9 = 18\n",
            "2 * 10 = 20\n"
          ]
        }
      ]
    },
    {
      "cell_type": "code",
      "source": [
        "#any table:\n",
        "tablenumber = int(input(\"Enter any number for the table.\"))\n",
        "for i in range(1,11,1):\n",
        "  print( tablenumber, \"*\", i, \"=\", tablenumber*i)"
      ],
      "metadata": {
        "colab": {
          "base_uri": "https://localhost:8080/"
        },
        "id": "Nk5EhEPgpiL2",
        "outputId": "103ecdbd-d7ce-486d-c433-2189dc17a8d9"
      },
      "execution_count": null,
      "outputs": [
        {
          "output_type": "stream",
          "name": "stdout",
          "text": [
            "Enter any number for the table.6\n",
            "6 * 1 = 6\n",
            "6 * 2 = 12\n",
            "6 * 3 = 18\n",
            "6 * 4 = 24\n",
            "6 * 5 = 30\n",
            "6 * 6 = 36\n",
            "6 * 7 = 42\n",
            "6 * 8 = 48\n",
            "6 * 9 = 54\n",
            "6 * 10 = 60\n"
          ]
        }
      ]
    },
    {
      "cell_type": "code",
      "source": [
        "startnumber = int(input(\"Enter the number where you want to start:\"))\n",
        "stopnumber = int(input(\"Enter the number where you want to stop:\"))\n",
        "\n",
        "for i in range(startnumber, stopnumber, 1):\n",
        "  print(i)\n"
      ],
      "metadata": {
        "colab": {
          "base_uri": "https://localhost:8080/"
        },
        "id": "5K1YWmXJrNI9",
        "outputId": "4d7adf77-4fad-4e1c-acaa-b9d12cf646cd"
      },
      "execution_count": null,
      "outputs": [
        {
          "output_type": "stream",
          "name": "stdout",
          "text": [
            "Enter the number where you want to start:1\n",
            "Enter the number where you want to stop:7\n",
            "1\n",
            "2\n",
            "3\n",
            "4\n",
            "5\n",
            "6\n"
          ]
        }
      ]
    },
    {
      "cell_type": "code",
      "source": [
        "#\n",
        "print(\"********************************REPORT CARD*********************************\")\n",
        "lastnumber = int(input(\"Enter the total number of students\"))\n",
        "for i in range(1, lastnumber+1, 1):\n",
        "  name = input(\"Enter your name:\")\n",
        "  print(name)\n",
        "  english = int(input(\"Marks of English:\"))\n",
        "  science = int(input(\"Marks of Science:\"))\n",
        "  maths = int(input(\"Marks of Maths:\"))\n",
        "  islamiat = int(input(\"Marks of Islamiat:\"))\n",
        "  computer = int(input(\"Marks of Computer:\"))\n",
        "\n",
        "  obtainedmarks = english + science + maths + islamiat + computer\n",
        "  print(\"Obtained Marks: \", obtainedmarks)\n",
        "\n",
        "  totalmarks = 500\n",
        "  print(\"totalmarks:\", totalmarks)\n",
        "\n",
        "  percentage = obtainedmarks/totalmarks * 100\n",
        "  print(\"percentage: \", percentage)\n",
        "\n",
        "  if (percentage > 80 ):\n",
        "    print(\"A+ Grade\", \"Outstanding Performance!\")\n",
        "  elif (percentage > 70):\n",
        "    print(\"A Grade\", \"Excellent Result!\")\n",
        "  elif (percentage > 60):\n",
        "    print (\"B Grade\", \"Good Result! Keep it up!\")\n",
        "  else:\n",
        "    print (\"Fail, Keep up the hard work!\")\n",
        "print(\"********************************************************************\")\n"
      ],
      "metadata": {
        "id": "dcRZC6Xat_sR",
        "colab": {
          "base_uri": "https://localhost:8080/"
        },
        "outputId": "245a0a9d-63b2-4d6f-c986-d6946f36695c"
      },
      "execution_count": null,
      "outputs": [
        {
          "output_type": "stream",
          "name": "stdout",
          "text": [
            "********************************REPORT CARD*********************************\n",
            "Enter the total number of students2\n",
            "Enter your name:Alina\n",
            "Alina\n",
            "Marks of English:34\n",
            "Marks of Science:56\n",
            "Marks of Maths:8\n",
            "Marks of Islamiat:4\n",
            "Marks of Computer:34\n",
            "Obtained Marks:  136\n",
            "totalmarks: 500\n",
            "percentage:  27.200000000000003\n",
            "Fail, Keep up the hard work!\n",
            "Enter your name:AMria\n",
            "AMria\n",
            "Marks of English:78\n",
            "Marks of Science:56\n",
            "Marks of Maths:89\n",
            "Marks of Islamiat:90\n",
            "Marks of Computer:70\n",
            "Obtained Marks:  383\n",
            "totalmarks: 500\n",
            "percentage:  76.6\n",
            "A Grade Excellent Result!\n",
            "********************************************************************\n"
          ]
        }
      ]
    },
    {
      "cell_type": "code",
      "source": [
        "name = input(\"Enter your name:\")\n",
        "for i in name:\n",
        " print(i)"
      ],
      "metadata": {
        "id": "VlVQfoulxmW5",
        "colab": {
          "base_uri": "https://localhost:8080/"
        },
        "outputId": "fad351cd-6a96-4699-ccf7-911905339878"
      },
      "execution_count": null,
      "outputs": [
        {
          "output_type": "stream",
          "name": "stdout",
          "text": [
            "Enter your name:Alina\n",
            "A\n",
            "l\n",
            "i\n",
            "n\n",
            "a\n"
          ]
        }
      ]
    },
    {
      "cell_type": "code",
      "source": [
        "name = input(\"Enter your name:\")\n",
        "reverse = \"\"\n",
        "for i in name:\n",
        " reverse = i + reverse\n",
        "print(reverse)"
      ],
      "metadata": {
        "colab": {
          "base_uri": "https://localhost:8080/"
        },
        "id": "Jws5Udfv03gQ",
        "outputId": "f5740878-eecb-44bb-8a99-4e299b1e3b22"
      },
      "execution_count": null,
      "outputs": [
        {
          "output_type": "stream",
          "name": "stdout",
          "text": [
            "Enter your name:alina\n",
            "anila\n"
          ]
        }
      ]
    },
    {
      "cell_type": "code",
      "source": [],
      "metadata": {
        "id": "sVspbbYz2m4q"
      },
      "execution_count": null,
      "outputs": []
    },
    {
      "cell_type": "code",
      "source": [
        "n = int(input(\"Enter the number of rows:\"))\n",
        "for i in range(n, 0 , -1):\n",
        " print(\"$\" * i)\n"
      ],
      "metadata": {
        "colab": {
          "base_uri": "https://localhost:8080/"
        },
        "id": "4J5p4W1X3Dug",
        "outputId": "73c47f0d-ccd0-401e-c67a-dfbb0d259645"
      },
      "execution_count": null,
      "outputs": [
        {
          "output_type": "stream",
          "name": "stdout",
          "text": [
            "Enter the number of rows:7\n",
            "$$$$$$$\n",
            "$$$$$$\n",
            "$$$$$\n",
            "$$$$\n",
            "$$$\n",
            "$$\n",
            "$\n"
          ]
        }
      ]
    },
    {
      "cell_type": "code",
      "source": [
        "n = int(input(\"Enter the number of rows:\"))\n",
        "for i in range(1, n+1):\n",
        " print(\"$\" * i)\n"
      ],
      "metadata": {
        "colab": {
          "base_uri": "https://localhost:8080/"
        },
        "id": "LtniJj0P6-2v",
        "outputId": "f4ca2ea5-ba29-46ab-98e7-a0602af805bb"
      },
      "execution_count": null,
      "outputs": [
        {
          "output_type": "stream",
          "name": "stdout",
          "text": [
            "Enter the number of rows:5\n",
            "$\n",
            "$$\n",
            "$$$\n",
            "$$$$\n",
            "$$$$$\n"
          ]
        }
      ]
    },
    {
      "cell_type": "code",
      "source": [
        "n = int(input(\"Enter the number of rows:\"))\n",
        "for i in range(1,0,-1):\n",
        " print(\"$\" * i)\n"
      ],
      "metadata": {
        "colab": {
          "base_uri": "https://localhost:8080/"
        },
        "id": "pN7T7hS_7g6Q",
        "outputId": "5d677d52-4c2d-41db-f98e-648cccbfac2b"
      },
      "execution_count": null,
      "outputs": [
        {
          "output_type": "stream",
          "name": "stdout",
          "text": [
            "Enter the number of rows:7\n",
            "$\n"
          ]
        }
      ]
    },
    {
      "cell_type": "code",
      "source": [],
      "metadata": {
        "id": "YmH3SsiI_MfX"
      },
      "execution_count": null,
      "outputs": []
    }
  ]
}