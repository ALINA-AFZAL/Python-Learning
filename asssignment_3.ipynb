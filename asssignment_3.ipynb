{
  "nbformat": 4,
  "nbformat_minor": 0,
  "metadata": {
    "colab": {
      "provenance": [],
      "authorship_tag": "ABX9TyPW22j8vU4dbUjYEwE+Oa4C",
      "include_colab_link": true
    },
    "kernelspec": {
      "name": "python3",
      "display_name": "Python 3"
    },
    "language_info": {
      "name": "python"
    }
  },
  "cells": [
    {
      "cell_type": "markdown",
      "metadata": {
        "id": "view-in-github",
        "colab_type": "text"
      },
      "source": [
        "<a href=\"https://colab.research.google.com/github/ALINA-AFZAL/Python-Learning/blob/main/asssignment_3.ipynb\" target=\"_parent\"><img src=\"https://colab.research.google.com/assets/colab-badge.svg\" alt=\"Open In Colab\"/></a>"
      ]
    },
    {
      "cell_type": "code",
      "execution_count": 14,
      "metadata": {
        "colab": {
          "base_uri": "https://localhost:8080/"
        },
        "id": "4jcmDX6M-cSO",
        "outputId": "ab658c13-d37d-48a1-f55d-1d959a7cdd4b"
      },
      "outputs": [
        {
          "output_type": "stream",
          "name": "stdout",
          "text": [
            "Enter any fruit name to check if it present in my list or not:banana\n",
            "this is banana\n"
          ]
        }
      ],
      "source": [
        "#Assignment# 03:\n",
        "#Function:\n",
        "#Create a function that checks if a particular item is present in the list.\n",
        "\n",
        "#first we define a function:\n",
        "def check_item_in_list():\n",
        "\n",
        "#make a list:\n",
        " my_list = [\"apple\", \"mango\", \"banana\", \"orange\"]\n",
        "\n",
        "#create an input for the user to know the particular item is present in my list or not:\n",
        " item_to_check = input(\"Enter any fruit name to check if it present in my list or not:\")\n",
        "\n",
        "#check through if else condition:\n",
        "#if that user's item present in my list print that item:\n",
        " if item_to_check in my_list:\n",
        "  print(item_to_check, \"is in my list\")\n",
        "\n",
        "#is it is not present then print item is not in my list:\n",
        " else:\n",
        "  print(item_to_check, \"is not in my list!\")\n",
        "\n",
        "#call the function:\n",
        "check_item_in_list()"
      ]
    },
    {
      "cell_type": "code",
      "source": [],
      "metadata": {
        "id": "Jg1423DUA7oG"
      },
      "execution_count": null,
      "outputs": []
    }
  ]
}