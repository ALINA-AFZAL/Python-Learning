{
  "nbformat": 4,
  "nbformat_minor": 0,
  "metadata": {
    "colab": {
      "provenance": [],
      "authorship_tag": "ABX9TyN4nsGGciViNPsDojiNSAtl",
      "include_colab_link": true
    },
    "kernelspec": {
      "name": "python3",
      "display_name": "Python 3"
    },
    "language_info": {
      "name": "python"
    }
  },
  "cells": [
    {
      "cell_type": "markdown",
      "metadata": {
        "id": "view-in-github",
        "colab_type": "text"
      },
      "source": [
        "<a href=\"https://colab.research.google.com/github/ALINA-AFZAL/Python-Learning/blob/main/Class_1.ipynb\" target=\"_parent\"><img src=\"https://colab.research.google.com/assets/colab-badge.svg\" alt=\"Open In Colab\"/></a>"
      ]
    },
    {
      "cell_type": "code",
      "execution_count": null,
      "metadata": {
        "id": "aQbZYnaPB5p9",
        "colab": {
          "base_uri": "https://localhost:8080/"
        },
        "outputId": "e20115d7-798e-4e50-ce24-0100b5739e3d"
      },
      "outputs": [
        {
          "output_type": "stream",
          "name": "stdout",
          "text": [
            "age of the person is\n",
            "25\n",
            "<class 'str'>\n"
          ]
        }
      ],
      "source": [
        "age = 25\n",
        "print(\"age of the person is\")\n",
        "print(age)\n",
        "\n",
        "name = \"Alina\"\n",
        "\n",
        "print (type(name))"
      ]
    }
  ]
}