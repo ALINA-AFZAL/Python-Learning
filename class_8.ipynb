{
  "nbformat": 4,
  "nbformat_minor": 0,
  "metadata": {
    "colab": {
      "provenance": [],
      "authorship_tag": "ABX9TyOa3HmSTxgIrBWBHrHqueIL",
      "include_colab_link": true
    },
    "kernelspec": {
      "name": "python3",
      "display_name": "Python 3"
    },
    "language_info": {
      "name": "python"
    }
  },
  "cells": [
    {
      "cell_type": "markdown",
      "metadata": {
        "id": "view-in-github",
        "colab_type": "text"
      },
      "source": [
        "<a href=\"https://colab.research.google.com/github/ALINA-AFZAL/Python-Learning/blob/main/class_8.ipynb\" target=\"_parent\"><img src=\"https://colab.research.google.com/assets/colab-badge.svg\" alt=\"Open In Colab\"/></a>"
      ]
    },
    {
      "cell_type": "code",
      "execution_count": null,
      "metadata": {
        "colab": {
          "base_uri": "https://localhost:8080/"
        },
        "id": "nxDwsoCPmDcc",
        "outputId": "26a52d65-e6aa-4ac6-f645-e9ebe2f43fa2"
      },
      "outputs": [
        {
          "output_type": "stream",
          "name": "stdout",
          "text": [
            "1\n",
            "2\n",
            "3\n",
            "4\n",
            "5\n",
            "6\n",
            "7\n",
            "8\n",
            "9\n"
          ]
        }
      ],
      "source": [
        "#while loop\n",
        "i = 1 #start\n",
        "while i <10: #stop\n",
        "  print(i)\n",
        "  i = i +1 #step"
      ]
    },
    {
      "cell_type": "code",
      "source": [
        "# two random number | user computer\n",
        "# display user number\n",
        "# Input higher | lower\n",
        "# User & computer compare | actual Answer\n",
        "# Actual Answer vs User Guess\n",
        "# Scoring\n"
      ],
      "metadata": {
        "id": "dHykdq88pkxr"
      },
      "execution_count": null,
      "outputs": []
    },
    {
      "cell_type": "code",
      "source": [
        "import random\n",
        "score = (0)\n",
        "user = random.randint (1, 100)\n",
        "computer = random.randint (1,100)\n",
        "\n",
        "print(\"Your number is:\", user)\n",
        "choice = input(\"What you think computer number is higher or lower:\")\n",
        "if choice == \"higher\" or choice == \"lower\" or choice == \"Higher\" or choice == \"Lower\":\n",
        "  print(\"Valid number\")\n",
        "  print(choice)\n",
        "\n",
        "  if user > computer:\n",
        "    actual = \"lower\"\n",
        "\n",
        "  elif user < computer:\n",
        "    actual = \"higher\"\n",
        "  print(choice, actual)\n",
        "\n",
        "  if choice == actual:\n",
        "    score = score +1\n",
        "    print(\"you won\")\n",
        "    print(\"your score is:\", score)\n",
        "    print(\"The computer number is:\", computer)\n",
        "\n",
        "  else:\n",
        "    print(\"you lost\")\n",
        "else:\n",
        "  print(\"Invalid number\")"
      ],
      "metadata": {
        "colab": {
          "base_uri": "https://localhost:8080/"
        },
        "id": "IuUC3WHWmej7",
        "outputId": "8f78cd9f-137c-4765-fe34-919d27f3bcd0"
      },
      "execution_count": null,
      "outputs": [
        {
          "output_type": "stream",
          "name": "stdout",
          "text": [
            "Your number is: 47\n",
            "What you think computer number is higher or lower:higher\n",
            "Valid number\n",
            "higher\n",
            "higher higher\n",
            "you won\n",
            "your score is: 1\n",
            "The computer number is: 61\n"
          ]
        }
      ]
    },
    {
      "cell_type": "code",
      "source": [
        "#definition of function\n",
        "\n",
        "def sum(num1, num2):\n",
        "  result = num1 + num2\n",
        "  print(result)\n",
        "\n",
        "def minus(num1, num2):\n",
        "  result = num1 - num2\n",
        "  print(result)\n",
        "\n",
        "def multiplication(num1, num2):\n",
        "  result = num1 * num2\n",
        "  print(result)\n",
        "\n",
        "def division(num1, num2):\n",
        "  result = num1 / num2\n",
        "  print(result)\n",
        "\n",
        "user = input(\"Select between (sum, minus, multiplication or division) :\")\n",
        "num1 = int(input(\"Enter any number:\"))\n",
        "num2 = int(input(\"Enter any second number:\"))\n",
        "\n",
        "if user == \"sum\":\n",
        "    sum(num1, num2)\n",
        "elif user == \"minus\":\n",
        "    minus(num1, num2)\n",
        "elif user == \"multiplication\":\n",
        "    multiplication(num1, num2)\n",
        "elif user == \"division\":\n",
        "    division(num1, num2)\n",
        "else:\n",
        "    print(\"Invalid answer\")\n"
      ],
      "metadata": {
        "id": "MGmHe-OjpDBh",
        "colab": {
          "base_uri": "https://localhost:8080/"
        },
        "outputId": "5531a2a5-de62-4227-f1e3-94878a0adf92"
      },
      "execution_count": 4,
      "outputs": [
        {
          "output_type": "stream",
          "name": "stdout",
          "text": [
            "Select between (sum, minus, multiplication or division) :multiplication\n",
            "Enter any number:3\n",
            "Enter any second number:4\n",
            "12\n"
          ]
        }
      ]
    },
    {
      "cell_type": "code",
      "source": [
        "#definition of function:\n",
        "\n",
        "def sum(num1, num2):\n",
        "  result = num1 + num2\n",
        "  return result\n",
        "\n",
        "def minus(num1, num2):\n",
        "  result = num1 - num2\n",
        "  return result\n",
        "\n",
        "def multiplication(num1, num2):\n",
        "  result = num1 * num2\n",
        "  return result\n",
        "\n",
        "def division(num1, num2):\n",
        "  result = num1 / num2\n",
        "  return result\n",
        "\n",
        "user = input(\"Select between (sum, minus, multiplication or division) :\")\n",
        "num1 = int(input(\"Enter any number:\"))\n",
        "num2 = int(input(\"Enter any second number:\"))\n",
        "if user == \"sum\":\n",
        "  ans = sum(num1, num2)\n",
        "elif user == \"minus\":\n",
        "  ans = minus(num1, num2)\n",
        "elif user == \"multiplication\":\n",
        "  ans = multiplication(num1, num2)\n",
        "elif user == \"division\":\n",
        "  ans = division(num1, num2)\n",
        "print(\"The answer is:\", ans)\n",
        "\n",
        "\n",
        "\n",
        "\n",
        "\n"
      ],
      "metadata": {
        "id": "gbQwaOyg6S-7",
        "colab": {
          "base_uri": "https://localhost:8080/"
        },
        "outputId": "674bc3a2-f857-4da9-fbed-95b2d3afda35"
      },
      "execution_count": 6,
      "outputs": [
        {
          "output_type": "stream",
          "name": "stdout",
          "text": [
            "Select between (sum, minus, multiplication or division) :multiplication\n",
            "Enter any number:4\n",
            "Enter any second number:5\n",
            "The answer is: 20\n"
          ]
        }
      ]
    }
  ]
}