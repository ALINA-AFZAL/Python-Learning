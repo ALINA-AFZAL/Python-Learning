{
  "cells": [
    {
      "cell_type": "markdown",
      "metadata": {
        "id": "view-in-github",
        "colab_type": "text"
      },
      "source": [
        "<a href=\"https://colab.research.google.com/github/ALINA-AFZAL/Python-Learning/blob/main/class_5.ipynb\" target=\"_parent\"><img src=\"https://colab.research.google.com/assets/colab-badge.svg\" alt=\"Open In Colab\"/></a>"
      ]
    },
    {
      "cell_type": "code",
      "execution_count": null,
      "metadata": {
        "colab": {
          "base_uri": "https://localhost:8080/"
        },
        "id": "fqvZuptz75Et",
        "outputId": "b29c3022-2a1a-4bf3-e428-31f5e3bbdbdf"
      },
      "outputs": [
        {
          "name": "stdout",
          "output_type": "stream",
          "text": [
            "enter number of rows4\n",
            "    *\n",
            "   **\n",
            "  ***\n",
            " ****\n",
            "  ***\n",
            "   **\n",
            "    *\n"
          ]
        }
      ],
      "source": [
        "#Diamond\n",
        "#input for number of rows:\n",
        "rows = int(input(\"enter number of rows\"))\n",
        "\n",
        "#loop with i variable to print number of \"*\":\n",
        "for i in range(1,rows+1):\n",
        "\n",
        "#s is for spaces:\n",
        " s = rows - i\n",
        "\n",
        "#result:\n",
        " print(\" \"*s, \"*\"*i)\n",
        "\n",
        "#loop with i variable to print number of \"*\":\n",
        "for i in range(rows-1,0, -1):\n",
        "\n",
        "#s is for spaces:\n",
        " s = rows - i\n",
        "\n",
        "#result:\n",
        " print(\" \"*s, \"*\" *i)\n",
        "\n",
        "\n",
        "\n"
      ]
    },
    {
      "cell_type": "code",
      "execution_count": null,
      "metadata": {
        "colab": {
          "base_uri": "https://localhost:8080/"
        },
        "id": "zLueC_4M8Gal",
        "outputId": "95be7ff4-916e-4849-a466-89af836b0c8d"
      },
      "outputs": [
        {
          "output_type": "stream",
          "name": "stdout",
          "text": [
            "enter number of rows3\n",
            "  * \n",
            " * * \n",
            "* * * \n",
            " * * \n",
            "  * \n"
          ]
        }
      ],
      "source": [
        "#Diamond\n",
        "#input for number of rows:\n",
        "rows = int(input(\"enter number of rows\"))\n",
        "\n",
        "#loop with i variable to print number of \"*\":\n",
        "for i in range(1,rows+1):\n",
        "\n",
        "#s is for spaces:\n",
        " s = rows - i\n",
        "\n",
        "#result:\n",
        " print(\" \"*s + \"* \"*i)\n",
        "\n",
        "#loop with i variable to print number of \"*\":\n",
        "for i in range(rows-1,0, -1):\n",
        "\n",
        "#s is for spaces:\n",
        " s = rows - i\n",
        "\n",
        "#result:\n",
        " print(\" \"*s + \"* \" *i)\n",
        "\n",
        "\n",
        "\n"
      ]
    },
    {
      "cell_type": "code",
      "execution_count": null,
      "metadata": {
        "id": "nWqycSylEOC8"
      },
      "outputs": [],
      "source": [
        "\n",
        "\n",
        "\n"
      ]
    },
    {
      "cell_type": "code",
      "execution_count": null,
      "metadata": {
        "id": "KdeU7wsGGrSP",
        "colab": {
          "base_uri": "https://localhost:8080/"
        },
        "outputId": "44aa7248-658b-46f5-9f11-05d9b964a1d3"
      },
      "outputs": [
        {
          "output_type": "stream",
          "name": "stdout",
          "text": [
            "Enter your age: 3\n",
            "Enter your height:5\n",
            "not eligible\n"
          ]
        }
      ],
      "source": [
        "#boolean operators / logical operators:\n",
        "age = int(input(\"Enter your age: \"))\n",
        "height = float(input(\"Enter your height:\"))\n",
        "\n",
        "if age>=10 and height>=4.4:\n",
        "  print(\"Eligible\")\n",
        "else:\n",
        "  print(\"not eligible\")"
      ]
    },
    {
      "cell_type": "code",
      "source": [
        "#data structure\n",
        "#list\n",
        "name = [\"mehwish\",'alina', \"ammar\",\"aliza\"]\n",
        "\n",
        "#printing the list\n",
        "print(name)\n",
        "\n",
        "#accessing element through index/position\n",
        "print(name[1])\n",
        "\n",
        "#slicing[start:end]\n",
        "print(name[1:4])"
      ],
      "metadata": {
        "colab": {
          "base_uri": "https://localhost:8080/"
        },
        "id": "65-eqX7GK72v",
        "outputId": "f5973956-8473-41a1-8ab3-cef90c537b32"
      },
      "execution_count": null,
      "outputs": [
        {
          "output_type": "stream",
          "name": "stdout",
          "text": [
            "['mehwish', 'alina', 'ammar', 'aliza']\n",
            "alina\n",
            "['alina', 'ammar', 'aliza']\n"
          ]
        }
      ]
    },
    {
      "cell_type": "code",
      "source": [
        "#add an element in the list\n",
        "name.append(\"jaweria\")\n",
        "print(name)"
      ],
      "metadata": {
        "colab": {
          "base_uri": "https://localhost:8080/"
        },
        "id": "SEVir8QRNJx7",
        "outputId": "8091f996-57dc-4b76-ca98-c9e82163d6aa"
      },
      "execution_count": null,
      "outputs": [
        {
          "output_type": "stream",
          "name": "stdout",
          "text": [
            "['mehwish', 'alina', 'ammar', 'aliza', 'jaweria', 'jaweria']\n"
          ]
        }
      ]
    },
    {
      "cell_type": "code",
      "source": [
        "# Diamond pattern\n",
        "rows = int(input(\"Enter number of rows: \"))\n",
        "\n",
        "# Upper part of the diamond\n",
        "for i in range(1, rows + 1):\n",
        "    s = rows - i\n",
        "    print(\" \" * s + \"*\" * (2 * i - 1))\n",
        "\n",
        "# Lower part of the diamond\n",
        "for i in range(rows - 1, 0, -1):\n",
        "    s = rows - i\n",
        "    print(\" \" * s + \"*\" * (2 * i - 1))\n"
      ],
      "metadata": {
        "id": "QKHXnvB2S0Nq",
        "colab": {
          "base_uri": "https://localhost:8080/"
        },
        "outputId": "d2af01e4-41f1-474c-90d4-b4c76d09c7ac"
      },
      "execution_count": null,
      "outputs": [
        {
          "output_type": "stream",
          "name": "stdout",
          "text": [
            "Enter number of rows: 3\n",
            "  *\n",
            " ***\n",
            "*****\n",
            " ***\n",
            "  *\n"
          ]
        }
      ]
    },
    {
      "cell_type": "code",
      "source": [],
      "metadata": {
        "id": "rwiNpFXBHAEk"
      },
      "execution_count": null,
      "outputs": []
    }
  ],
  "metadata": {
    "colab": {
      "provenance": [],
      "authorship_tag": "ABX9TyPyOGNo/8wtJdBSND/w1v7M",
      "include_colab_link": true
    },
    "kernelspec": {
      "display_name": "Python 3",
      "name": "python3"
    },
    "language_info": {
      "name": "python"
    }
  },
  "nbformat": 4,
  "nbformat_minor": 0
}